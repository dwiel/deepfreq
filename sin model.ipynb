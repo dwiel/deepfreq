{
 "cells": [
  {
   "cell_type": "code",
   "execution_count": 16,
   "metadata": {
    "collapsed": false
   },
   "outputs": [
    {
     "name": "stdout",
     "output_type": "stream",
     "text": [
      "Populating the interactive namespace from numpy and matplotlib\n"
     ]
    }
   ],
   "source": [
    "%pylab inline"
   ]
  },
  {
   "cell_type": "code",
   "execution_count": 1,
   "metadata": {
    "collapsed": true
   },
   "outputs": [],
   "source": [
    "import numpy as np"
   ]
  },
  {
   "cell_type": "code",
   "execution_count": 46,
   "metadata": {
    "collapsed": false
   },
   "outputs": [],
   "source": [
    "from keras.models import Sequential\n",
    "from keras.layers.core import Activation\n",
    "from keras.layers.recurrent import LSTM, SimpleRNN\n",
    "from keras.optimizers import SGD\n",
    "\n",
    "from keras import backend as K"
   ]
  },
  {
   "cell_type": "code",
   "execution_count": 70,
   "metadata": {
    "collapsed": true
   },
   "outputs": [],
   "source": [
    "def times_pi(x):\n",
    "    return x * (2 * np.pi)"
   ]
  },
  {
   "cell_type": "code",
   "execution_count": 83,
   "metadata": {
    "collapsed": false
   },
   "outputs": [],
   "source": [
    "num_hidden = 1\n",
    "\n",
    "model = Sequential()\n",
    "model.add(SimpleRNN(input_dim=1, output_dim=num_hidden, return_sequences=True))\n",
    "model.add(Activation(times_pi))\n",
    "model.add(Activation(K.sin))\n",
    "model.add(SimpleRNN(input_dim=num_hidden, output_dim=1, return_sequences=True))\n",
    "sgd = SGD(lr=0.1)\n",
    "\n",
    "model.compile(loss='mean_squared_error', optimizer=sgd)\n",
    "# model.compile(loss='mse', optimizer='sgd')"
   ]
  },
  {
   "cell_type": "code",
   "execution_count": 84,
   "metadata": {
    "collapsed": false
   },
   "outputs": [
    {
     "name": "stdout",
     "output_type": "stream",
     "text": [
      "Epoch 1/1\n",
      "131072/131072 [==============================] - 74s - loss: 0.0971    \n"
     ]
    }
   ],
   "source": [
    "from deepfreq import datasets\n",
    "\n",
    "BATCH_SIZE = 1024*128\n",
    "LENGTH = 256\n",
    "every_n = 10\n",
    "\n",
    "# make training data\n",
    "X, Y = datasets.batch(BATCH_SIZE, datasets.one_every_n, LENGTH, every_n)\n",
    "\n",
    "# train model\n",
    "history = model.fit(X, Y, nb_epoch=1, batch_size=128)"
   ]
  },
  {
   "cell_type": "code",
   "execution_count": 85,
   "metadata": {
    "collapsed": false
   },
   "outputs": [],
   "source": [
    "# predict one example\n",
    "X, Y = datasets.batch(1, datasets.one_every_n, LENGTH, every_n)\n",
    "Y_out = model.predict(X)"
   ]
  },
  {
   "cell_type": "code",
   "execution_count": 86,
   "metadata": {
    "collapsed": false
   },
   "outputs": [
    {
     "data": {
      "text/plain": [
       "[<matplotlib.lines.Line2D at 0x7f82bda1c310>]"
      ]
     },
     "execution_count": 86,
     "metadata": {},
     "output_type": "execute_result"
    },
    {
     "data": {
      "image/png": "[encoded data removed]",
      "text/plain": [
       "<matplotlib.figure.Figure at 0x7f82bd5fe650>"
      ]
     },
     "metadata": {},
     "output_type": "display_data"
    }
   ],
   "source": [
    "# plot example\n",
    "# plot(X[0,:])\n",
    "# show()\n",
    "# plot(Y[0,:])\n",
    "plot(Y_out[0,:])\n",
    "# show()"
   ]
  },
  {
   "cell_type": "code",
   "execution_count": null,
   "metadata": {
    "collapsed": true
   },
   "outputs": [],
   "source": []
  }
 ],
 "metadata": {
  "kernelspec": {
   "display_name": "Python 2",
   "language": "python",
   "name": "python2"
  },
  "language_info": {
   "codemirror_mode": {
    "name": "ipython",
    "version": 2
   },
   "file_extension": ".py",
   "mimetype": "text/x-python",
   "name": "python",
   "nbconvert_exporter": "python",
   "pygments_lexer": "ipython2",
   "version": "2.7.6"
  }
 },
 "nbformat": 4,
 "nbformat_minor": 0
}
