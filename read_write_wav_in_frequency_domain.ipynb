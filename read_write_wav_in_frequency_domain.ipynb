{
 "cells": [
  {
   "cell_type": "code",
   "execution_count": 1666,
   "metadata": {
    "collapsed": true
   },
   "outputs": [],
   "source": [
    "# load this data by running ./setup\n",
    "filename = 'African Drum Music-wXV39pybgJU-sm.wav'"
   ]
  },
  {
   "cell_type": "code",
   "execution_count": 1667,
   "metadata": {
    "collapsed": false
   },
   "outputs": [],
   "source": [
    "from scipy.io.wavfile import read, write\n",
    "from librosa.core import stft, istft\n",
    "\n",
    "# load wav data\n",
    "_, y = read(filename)"
   ]
  },
  {
   "cell_type": "code",
   "execution_count": 1668,
   "metadata": {
    "collapsed": true
   },
   "outputs": [],
   "source": [
    "# convert timeseries wav data into spectrogram data\n",
    "D = stft(y)"
   ]
  },
  {
   "cell_type": "code",
   "execution_count": 1681,
   "metadata": {
    "collapsed": false
   },
   "outputs": [],
   "source": [
    "x = numpy.array([D.real, D.imag])"
   ]
  },
  {
   "cell_type": "code",
   "execution_count": 1687,
   "metadata": {
    "collapsed": false
   },
   "outputs": [
    {
     "data": {
      "text/plain": [
       "(2, 1025, 5169)"
      ]
     },
     "execution_count": 1687,
     "metadata": {},
     "output_type": "execute_result"
    }
   ],
   "source": [
    "# x is now shape 2, freq, samples\n",
    "x.shape"
   ]
  },
  {
   "cell_type": "code",
   "execution_count": 1689,
   "metadata": {
    "collapsed": true
   },
   "outputs": [],
   "source": [
    "# x is the domain that the neural network can operate in\n",
    "# NOTE: not completely true as we'll learn later"
   ]
  },
  {
   "cell_type": "code",
   "execution_count": 1690,
   "metadata": {
    "collapsed": true
   },
   "outputs": [],
   "source": [
    "# and to convert back into complex for conversion back to wav\n",
    "D2 = x[0,:,:] + (x[1,:,:] * 1j)"
   ]
  },
  {
   "cell_type": "code",
   "execution_count": 1692,
   "metadata": {
    "collapsed": false
   },
   "outputs": [
    {
     "data": {
      "text/plain": [
       "True"
      ]
     },
     "execution_count": 1692,
     "metadata": {},
     "output_type": "execute_result"
    }
   ],
   "source": [
    "# D and D2 are the same\n",
    "sum(D - D2) == 0"
   ]
  },
  {
   "cell_type": "code",
   "execution_count": 1693,
   "metadata": {
    "collapsed": false
   },
   "outputs": [],
   "source": [
    "# and then back to timeseries wav\n",
    "back_y = istft(D2)"
   ]
  },
  {
   "cell_type": "code",
   "execution_count": 1694,
   "metadata": {
    "collapsed": true
   },
   "outputs": [],
   "source": [
    "# convert back_y into int16 or whatever the file format has.  otherwise back_y is float\n",
    "back_y = np.array(back_y, dtype=y.dtype)"
   ]
  },
  {
   "cell_type": "code",
   "execution_count": 1695,
   "metadata": {
    "collapsed": false
   },
   "outputs": [],
   "source": [
    "# write test-out for listening\n",
    "write('test-out.wav', 44100, back_y)"
   ]
  },
  {
   "cell_type": "code",
   "execution_count": 1696,
   "metadata": {
    "collapsed": false
   },
   "outputs": [
    {
     "data": {
      "text/plain": [
       "0"
      ]
     },
     "execution_count": 1696,
     "metadata": {},
     "output_type": "execute_result"
    }
   ],
   "source": [
    "# a measure of how different y and y->fft->back_y are\n",
    "sum(abs(y - back_y))/len(y)"
   ]
  },
  {
   "cell_type": "code",
   "execution_count": 1697,
   "metadata": {
    "collapsed": true
   },
   "outputs": [],
   "source": [
    "# and now for some sanity checks of the data strucutres produced above"
   ]
  },
  {
   "cell_type": "code",
   "execution_count": 1698,
   "metadata": {
    "collapsed": false
   },
   "outputs": [
    {
     "name": "stdout",
     "output_type": "stream",
     "text": [
      "(2646016,)\n",
      "(2646016,)\n"
     ]
    }
   ],
   "source": [
    "# the shape of the input and output are the same\n",
    "print y.shape\n",
    "print back_y.shape"
   ]
  },
  {
   "cell_type": "code",
   "execution_count": 1699,
   "metadata": {
    "collapsed": false
   },
   "outputs": [
    {
     "data": {
      "text/plain": [
       "(2646016, 2646000)"
      ]
     },
     "execution_count": 1699,
     "metadata": {},
     "output_type": "execute_result"
    }
   ],
   "source": [
    "# y is roughly 44100 samples/second * 60 seconds.  I'm not sure why its off by 16 ...\n",
    "y.shape[0], 44100 * 60"
   ]
  },
  {
   "cell_type": "code",
   "execution_count": 1700,
   "metadata": {
    "collapsed": true
   },
   "outputs": [],
   "source": [
    "# NOTE: the default FFT window size is 2048 and hop_length is 2048/4"
   ]
  },
  {
   "cell_type": "code",
   "execution_count": 1702,
   "metadata": {
    "collapsed": false
   },
   "outputs": [
    {
     "name": "stdout",
     "output_type": "stream",
     "text": [
      "5169\n",
      "5168.0\n"
     ]
    }
   ],
   "source": [
    "# these two are *almost* the same.  Anyone know why?\n",
    "print D.shape[1]\n",
    "print len(y)/2048. * 4."
   ]
  },
  {
   "cell_type": "code",
   "execution_count": 1710,
   "metadata": {
    "collapsed": false
   },
   "outputs": [
    {
     "data": {
      "text/plain": [
       "11.607731246235517"
      ]
     },
     "execution_count": 1710,
     "metadata": {},
     "output_type": "execute_result"
    }
   ],
   "source": [
    "# FYI: windows are roughly 11ms long\n",
    "# (length of input / (samples/second)) * (milliseconds/second) / (samples/window) => milliseconds/window\n",
    "float(len(y)) / 44100 * 1000 / 5169"
   ]
  },
  {
   "cell_type": "code",
   "execution_count": 1712,
   "metadata": {
    "collapsed": false
   },
   "outputs": [
    {
     "data": {
      "text/plain": [
       "2.002340499830689"
      ]
     },
     "execution_count": 1712,
     "metadata": {},
     "output_type": "execute_result"
    }
   ],
   "source": [
    "# FYI: D is roughly twice the size in bytes due to complex num\n",
    "float(D.shape[0] * D.shape[1]) / len(y)"
   ]
  }
 ],
 "metadata": {
  "kernelspec": {
   "display_name": "Python 2",
   "language": "python",
   "name": "python2"
  },
  "language_info": {
   "codemirror_mode": {
    "name": "ipython",
    "version": 2
   },
   "file_extension": ".py",
   "mimetype": "text/x-python",
   "name": "python",
   "nbconvert_exporter": "python",
   "pygments_lexer": "ipython2",
   "version": "2.7.11"
  }
 },
 "nbformat": 4,
 "nbformat_minor": 0
}
