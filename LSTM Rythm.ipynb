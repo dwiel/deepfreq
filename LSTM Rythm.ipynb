{
 "cells": [
  {
   "cell_type": "code",
   "execution_count": 118,
   "metadata": {
    "collapsed": false
   },
   "outputs": [
    {
     "name": "stdout",
     "output_type": "stream",
     "text": [
      "Populating the interactive namespace from numpy and matplotlib\n"
     ]
    }
   ],
   "source": [
    "%pylab inline\n",
    "\n",
    "from pylab import rcParams\n",
    "rcParams['figure.figsize'] = 15, 5"
   ]
  },
  {
   "cell_type": "code",
   "execution_count": 3,
   "metadata": {
    "collapsed": true
   },
   "outputs": [],
   "source": [
    "import numpy as np"
   ]
  },
  {
   "cell_type": "code",
   "execution_count": 4,
   "metadata": {
    "collapsed": true
   },
   "outputs": [],
   "source": [
    "import random"
   ]
  },
  {
   "cell_type": "code",
   "execution_count": 22,
   "metadata": {
    "collapsed": true
   },
   "outputs": [],
   "source": [
    "def one_every_n(length, n):\n",
    "    i = random.randint(0, n)\n",
    "    x = np.array(range(length))\n",
    "    return np.remainder(x, n) == i"
   ]
  },
  {
   "cell_type": "code",
   "execution_count": 27,
   "metadata": {
    "collapsed": false
   },
   "outputs": [
    {
     "data": {
      "text/plain": [
       "[<matplotlib.lines.Line2D at 0x7fb59c391950>]"
      ]
     },
     "execution_count": 27,
     "metadata": {},
     "output_type": "execute_result"
    },
    {
     "data": {
      "image/png": "[encoded data removed]",
      "text/plain": [
       "<matplotlib.figure.Figure at 0x7fb59c4d4550>"
      ]
     },
     "metadata": {},
     "output_type": "display_data"
    }
   ],
   "source": [
    "plot(one_every_n(100, 10))"
   ]
  },
  {
   "cell_type": "code",
   "execution_count": 55,
   "metadata": {
    "collapsed": true
   },
   "outputs": [],
   "source": [
    "def batch(batch_size, fn, *args):\n",
    "    X = np.array([fn(*args) for i in range(batch_size)])\n",
    "    return X[:,:-1,None], X[:,1:,None]"
   ]
  },
  {
   "cell_type": "code",
   "execution_count": 56,
   "metadata": {
    "collapsed": false
   },
   "outputs": [
    {
     "data": {
      "text/plain": [
       "(10, 9, 1)"
      ]
     },
     "execution_count": 56,
     "metadata": {},
     "output_type": "execute_result"
    }
   ],
   "source": [
    "batch(10, one_every_n, 10, 2)[0].shape"
   ]
  },
  {
   "cell_type": "code",
   "execution_count": 282,
   "metadata": {
    "collapsed": true
   },
   "outputs": [],
   "source": [
    "import random"
   ]
  },
  {
   "cell_type": "code",
   "execution_count": 273,
   "metadata": {
    "collapsed": false
   },
   "outputs": [],
   "source": [
    "from keras.models import Sequential\n",
    "from keras.layers.recurrent import LSTM, GRU, SimpleRNN\n",
    "from keras.optimizers import SGD\n",
    "from keras.layers.normalization import BatchNormalization\n",
    "from keras.layers.core import TimeDistributedDense"
   ]
  },
  {
   "cell_type": "code",
   "execution_count": 331,
   "metadata": {
    "collapsed": false
   },
   "outputs": [],
   "source": [
    "def random_sample():\n",
    "    return {\n",
    "        'learning_rate': random.uniform(0.1, 1),\n",
    "        'recurrent_layer': random.choice([LSTM, GRU, SimpleRNN]),\n",
    "        'activation': random.choice(['sigmoid', 'tanh']),\n",
    "        'every_n': random.randint(2, 20),\n",
    "        'n_hidden': random.randint(1, 20),\n",
    "        'n_layers': random.randint(2, 4),\n",
    "        'tdd_in': random.choice([True, False]),\n",
    "        'tdd_out': random.choice([True, False]),\n",
    "    }"
   ]
  },
  {
   "cell_type": "code",
   "execution_count": 332,
   "metadata": {
    "collapsed": false
   },
   "outputs": [],
   "source": [
    "def build_model(learning_rate=None, recurrent_layer=None, n_hidden=None, n_layers=None, tdd_in=None, tdd_out=None, activation=None, **kwargs):\n",
    "    model = Sequential()\n",
    "\n",
    "    if tdd_in:\n",
    "        model.add(TimeDistributedDense(input_dim=1, output_dim=n_hidden))\n",
    "    else:\n",
    "        model.add(recurrent_layer(input_dim=1, output_dim=n_hidden, activation=activation, return_sequences=True))\n",
    "\n",
    "    for i in range(n_layers - 2):\n",
    "        model.add(recurrent_layer(input_dim=n_hidden, output_dim=n_hidden, activation=activation, return_sequences=True))\n",
    "\n",
    "    if tdd_out:\n",
    "        model.add(TimeDistributedDense(input_dim=n_hidden, output_dim=1))\n",
    "    else:\n",
    "        model.add(recurrent_layer(input_dim=n_hidden, output_dim=1, activation=activation, return_sequences=True))\n",
    "\n",
    "    sgd = SGD(lr=learning_rate)\n",
    "    \n",
    "    model.compile(loss='mean_squared_error', optimizer=sgd)\n",
    "\n",
    "    return model"
   ]
  },
  {
   "cell_type": "code",
   "execution_count": 333,
   "metadata": {
    "collapsed": true
   },
   "outputs": [],
   "source": [
    "BATCH_SIZE = 1024*128\n",
    "LENGTH = 128"
   ]
  },
  {
   "cell_type": "code",
   "execution_count": null,
   "metadata": {
    "collapsed": false
   },
   "outputs": [],
   "source": [
    "import json\n",
    "\n",
    "for i in range(1):\n",
    "    # build model\n",
    "    params = random_sample()\n",
    "    model = build_model(**params)\n",
    "\n",
    "    # make training data\n",
    "    X, Y = batch(BATCH_SIZE, one_every_n, LENGTH, params['every_n'])\n",
    "\n",
    "    # train model\n",
    "    history = model.fit(X, Y, nb_epoch=1, batch_size=128)\n",
    "\n",
    "    # log to file one line per model, data represented by json\n",
    "    params['loss'] = history.history['loss'][0]\n",
    "    with open('log', 'a') as f:\n",
    "        f.write(json.dumps(params))"
   ]
  },
  {
   "cell_type": "code",
   "execution_count": null,
   "metadata": {
    "collapsed": true
   },
   "outputs": [],
   "source": [
    "# predict one example\n",
    "X, Y = batch(1, one_every_n, LENGTH, params['every_n'])\n",
    "Y_out = model.predict(X)"
   ]
  },
  {
   "cell_type": "code",
   "execution_count": null,
   "metadata": {
    "collapsed": false
   },
   "outputs": [],
   "source": [
    "# plot example\n",
    "\n",
    "plot(X[0,:])\n",
    "show()\n",
    "# plot(Y[0,:])\n",
    "plot(Y_out[0,:])\n",
    "show()"
   ]
  }
 ],
 "metadata": {
  "kernelspec": {
   "display_name": "Python 2",
   "language": "python",
   "name": "python2"
  },
  "language_info": {
   "codemirror_mode": {
    "name": "ipython",
    "version": 2
   },
   "file_extension": ".py",
   "mimetype": "text/x-python",
   "name": "python",
   "nbconvert_exporter": "python",
   "pygments_lexer": "ipython2",
   "version": "2.7.6"
  }
 },
 "nbformat": 4,
 "nbformat_minor": 0
}
